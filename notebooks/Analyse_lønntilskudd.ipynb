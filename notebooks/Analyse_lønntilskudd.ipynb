{
 "cells": [
  {
   "cell_type": "markdown",
   "metadata": {},
   "source": [
    "# Overall analysis of consumption and distribution of the measure 'Midlertidig lønnstilskudd' in the period 2018-2020"
   ]
  },
  {
   "cell_type": "code",
   "execution_count": null,
   "metadata": {},
   "outputs": [],
   "source": [
    "import pandas as pandas\n",
    "import matplotlib.pyplot as plt\n",
    "import seaborn as sns\n",
    "import numpy as np\n",
    "import plotly.express as px\n",
    "import dataverk_tools.themes.nav as nav\n",
    "from io import StringIO\n",
    "import requests\n",
    "import itertools\n",
    "import plotly.graph_objs as go\n",
    "from matplotlib.ticker import FormatStrFormatter\n",
    "\n"
   ]
  },
  {
   "cell_type": "code",
   "execution_count": null,
   "metadata": {},
   "outputs": [],
   "source": [
    "import dataverk_tools.themes.navdesign as theme\n",
    "import plotly.io as plio\n",
    "plio.templates.default = theme.plotly_template\n",
    "#theme.colors.navColors\n"
   ]
  },
  {
   "cell_type": "code",
   "execution_count": null,
   "metadata": {},
   "outputs": [],
   "source": [
    "from dataverk_vault import api as vault_api\n",
    "import cx_Oracle\n",
    "import os\n",
    "import json"
   ]
  },
  {
   "cell_type": "code",
   "execution_count": null,
   "metadata": {},
   "outputs": [],
   "source": [
    "from dataverk_vault.api import set_secrets_as_envs\n",
    "set_secrets_as_envs()\n",
    "\n",
    "# get secrets from vault\n",
    "\n",
    "user_dvh = os.environ[\"DVH_USER\"]\n",
    "pw_dvh = os.environ['DVH_PWD']\n",
    "dvh_service = os.environ['DVH_SERVICE_NAME']\n",
    "dvh_port    = os.environ['DVH_PORT']\n",
    "dvh_cn      = os.environ['DVH_CN']\n"
   ]
  },
  {
   "cell_type": "code",
   "execution_count": null,
   "metadata": {},
   "outputs": [],
   "source": [
    "# Create string for database connection\n",
    "my_dsn = cx_Oracle.makedsn( dvh_cn, dvh_port, service_name=dvh_service)\n",
    "\n",
    "# Creates link to data warehouse\n",
    "con = cx_Oracle.connect(user=user_dvh, password=pw_dvh, dsn=my_dsn)\n",
    "\n",
    "#print(\"connection success\")"
   ]
  },
  {
   "cell_type": "code",
   "execution_count": null,
   "metadata": {},
   "outputs": [],
   "source": [
    "import sys\n",
    "sys.path.append('~/arbeidsretta-tiltak/python')\n",
    "import mappings\n",
    "import importlib\n",
    "#importlib.reload(mappings)"
   ]
  },
  {
   "cell_type": "code",
   "execution_count": null,
   "metadata": {},
   "outputs": [],
   "source": [
    "# All labour market measures that are  in DWH(both active and inactive measures)\n",
    "tiltak_DWH= mappings.tiltak\n",
    "#tiltak_DWH"
   ]
  },
  {
   "cell_type": "code",
   "execution_count": null,
   "metadata": {},
   "outputs": [],
   "source": [
    "# Extracting labour market measures that are active today\n",
    "active_tiltak = [\"AMO\",\"AMOE\",\"ARBFORB\",\"ARBRRHDAG\",\"ARBTREN\",\"AVKLARAG\",\"ENKELAMO\",\"ENKFAGYRKE\",\n",
    "                 \"GRUFAGYRKE\",\"GRUPPEAMO\",\"HOYEREUTD\",\"INDJOBSTOT\",\"INDOPPFAG\",\n",
    "                 \"INKLUTILS\",\"JOBBK\",\"MENTOR\",\"MIDLONTIL\",\"REFINO\",\"SUPPEMP\",\n",
    "                 \"UTVAOONAV\",\"VARLONTIL\",\"VASV\",\"VATIAROR\"]\n",
    "tiltak_navn = {key: tiltak_DWH[key] for key in active_tiltak}\n",
    "tiltak_navn[\"MIDLONTIL\"] = 'Midlertidig_lønnstilskudd'\n",
    "#tiltak_navn"
   ]
  },
  {
   "cell_type": "markdown",
   "metadata": {},
   "source": [
    "## Collection of user defined function used in this  analysis"
   ]
  },
  {
   "cell_type": "code",
   "execution_count": null,
   "metadata": {},
   "outputs": [],
   "source": [
    "sys.path.append('~/arbeidsretta-tiltak/python/tlk_lonn')\n",
    "import prep_utils\n",
    "import plot_utils"
   ]
  },
  {
   "cell_type": "markdown",
   "metadata": {},
   "source": [
    "## How does the gender balance look in all measures in the period 2018-2020?"
   ]
  },
  {
   "cell_type": "code",
   "execution_count": null,
   "metadata": {},
   "outputs": [],
   "source": [
    "# common dataframe for gender balance \n",
    "kjonn_tiltak = prep_utils.fetch_sql_file(\"../Lønntilskudd_sql/tiltak_kjønn.sql\", con)\n",
    "\n",
    "\n",
    "kjonn_tiltak_navn = prep_utils.map_tiltak_navn(kjonn_tiltak)\n",
    "kjonn_tiltak_kjonn_id = prep_utils.replace_kjonn_id(kjonn_tiltak)\n",
    "#kjonn_tiltak_kjonn_id.head(5)\n",
    "\n"
   ]
  },
  {
   "cell_type": "code",
   "execution_count": null,
   "metadata": {},
   "outputs": [],
   "source": [
    "# Dataframe for all measures by gender balance\n",
    "tiltak_alle =kjonn_tiltak_kjonn_id.copy()\n",
    "#tiltak_alle.head(5)\n",
    "\n"
   ]
  },
  {
   "cell_type": "code",
   "execution_count": null,
   "metadata": {},
   "outputs": [],
   "source": [
    "\n",
    "kjonn_alle_tiltak_andel = prep_utils.find_kjonn_percentage(tiltak_alle,'COUNT')\n",
    "#kjonn_alle_tiltak_andel\n"
   ]
  },
  {
   "cell_type": "code",
   "execution_count": null,
   "metadata": {},
   "outputs": [],
   "source": [
    "# Data frame for temporary wage measures for Gender Balance\n",
    "# Fetching rows with column name - titak navn : Midlertidig_lønnstilskudd\n",
    "kjonn_mid_lønn = kjonn_tiltak_kjonn_id[(kjonn_tiltak_kjonn_id['TILTAK_NAVN'] == 'Midlertidig_lønnstilskudd') ]\n",
    "#kjonn_mid_lønn.head(5)\n",
    "\n"
   ]
  },
  {
   "cell_type": "code",
   "execution_count": null,
   "metadata": {},
   "outputs": [],
   "source": [
    "# found duplicates and droping those rows\n",
    "kjonn_mid_lønn[kjonn_mid_lønn['PERSON_ID'].duplicated() == True]\n",
    "kjonn_mid_lønn = kjonn_mid_lønn.drop_duplicates('PERSON_ID').sort_index()\n",
    "#kjonn_mid_lønn.head(5)"
   ]
  },
  {
   "cell_type": "code",
   "execution_count": null,
   "metadata": {},
   "outputs": [],
   "source": [
    "\n",
    "kjonn_mid_lønn_andel = prep_utils.find_kjonn_percentage(kjonn_mid_lønn,'COUNT')\n",
    "#kjonn_mid_lønn_andel\n",
    "\n"
   ]
  },
  {
   "cell_type": "code",
   "execution_count": null,
   "metadata": {},
   "outputs": [],
   "source": [
    "# Dataframe for work training measures for Gender Balance\n",
    "# Fetching rows with column name - titak navn : Arbeidstrening\n",
    "kjonn_arbtren = kjonn_tiltak_kjonn_id[(kjonn_tiltak_kjonn_id['TILTAK_NAVN'] == 'Arbeidstrening') ]\n",
    "#kjonn_arbtren[kjonn_arbtren['PERSON_ID'] ==2815291]\n",
    "#kjonn_arbtren"
   ]
  },
  {
   "cell_type": "code",
   "execution_count": null,
   "metadata": {},
   "outputs": [],
   "source": [
    "# found duplicates and droping those rows\n",
    "kjonn_arbtren[kjonn_arbtren['PERSON_ID'].duplicated() == True]\n",
    "kjonn_arbtren = kjonn_arbtren.drop_duplicates('PERSON_ID').sort_index()\n",
    "#kjonn_arbtren"
   ]
  },
  {
   "cell_type": "code",
   "execution_count": null,
   "metadata": {},
   "outputs": [],
   "source": [
    "\n",
    "kjonn_arbtren_andel = prep_utils.find_kjonn_percentage(kjonn_arbtren,'COUNT')\n",
    "kjonn_arbtren_andel\n",
    "\n",
    "\n"
   ]
  },
  {
   "cell_type": "markdown",
   "metadata": {},
   "source": [
    "## How does the proportion of women and men who have completed all measures, temporary wage subsidy and work training in the period 2018-2020"
   ]
  },
  {
   "cell_type": "code",
   "execution_count": null,
   "metadata": {},
   "outputs": [],
   "source": [
    "# preparing dataframe\n",
    "# concating above 3 dataframe togather \n",
    "concat_kjonn = pandas.concat([kjonn_alle_tiltak_andel,kjonn_arbtren_andel,kjonn_mid_lønn_andel], axis=1)\n",
    "#concat_kjonn\n",
    "# Renaming the columns after concating dataframe                      \n",
    "concat_kjonn.columns._data[1] = 'Count_Alle_tiltak'\n",
    "concat_kjonn.columns._data[2] = 'Alle_tiltak'\n",
    "concat_kjonn.columns._data[4] = 'Count_Arbeidstrening'\n",
    "concat_kjonn.columns._data[5] = 'Arbeidstrening'\n",
    "concat_kjonn.columns._data[7] = 'Count_Midlertidig_lønnstilskudd'\n",
    "concat_kjonn.columns._data[8] = 'Midlertidig_lønnstilskudd'\n",
    "\n",
    "# Removing duplicated columns(kjonn_id)                             \n",
    "concat_kjonn = concat_kjonn.loc[:,~concat_kjonn.columns.duplicated()]\n",
    "# Extracting necessary columns\n",
    "df = concat_kjonn[['KJONN_ID','Alle_tiltak','Arbeidstrening', 'Midlertidig_lønnstilskudd']]\n",
    "#df\n"
   ]
  },
  {
   "cell_type": "code",
   "execution_count": null,
   "metadata": {},
   "outputs": [],
   "source": [
    "# Making tiltak navn colum som index to plot the graph\n",
    "\n",
    "products_list = df.values.tolist()\n",
    "\n",
    "products_list[0].remove('Menn')\n",
    "products_list[1].remove('kvinner')\n",
    "#print(products_list)\n",
    "#print(lst)\n",
    "\n",
    "lst = list(df)\n",
    "#print(lst)\n",
    "\n",
    "lst_per  = lst[1:]\n",
    "#print(lst_per)\n",
    "Menn = products_list[0]\n",
    "#print(Menn)\n",
    "kvinner = products_list[1]\n",
    "#print(kvinner)\n",
    "\n",
    "index = lst_per\n",
    "#print(index)\n",
    "df = pandas.DataFrame({'Menn': Menn,\n",
    "                'kvinner':kvinner}, index=index)\n",
    "#df\n"
   ]
  },
  {
   "cell_type": "code",
   "execution_count": null,
   "metadata": {},
   "outputs": [],
   "source": [
    "\n",
    "ax = df.plot.bar(figsize=(8,5))\n",
    "\n",
    "for p in ax.patches:\n",
    "    ax.annotate((format((p.get_height()))), \n",
    "                   (p.get_x() + p.get_width() / 2., p.get_height()), \n",
    "                   ha = 'center', va = 'center', \n",
    "                   size=20,\n",
    "                   xytext = (0, -12), \n",
    "                   textcoords = 'offset points')\n",
    "ax.axhline(50)\n",
    "plt.title(\"Proportion of women and men who have completed all measures, temporary  wage subsidy and work training in the period 2018-2020\",size = 25)\n",
    "plt.legend(bbox_to_anchor=(1.0,1.0))\n",
    "plt.ylabel('Andel')\n",
    "plt.show()\n",
    "\n",
    "\n",
    "\n"
   ]
  },
  {
   "cell_type": "markdown",
   "metadata": {},
   "source": [
    "## What is the difference in the proportion of men and women who have completed measures"
   ]
  },
  {
   "cell_type": "code",
   "execution_count": null,
   "metadata": {},
   "outputs": [],
   "source": [
    "\n",
    "df_diff = df.copy()\n",
    "\n",
    "df_diff =df_diff.round(1)\n",
    "#df_diff"
   ]
  },
  {
   "cell_type": "code",
   "execution_count": null,
   "metadata": {},
   "outputs": [],
   "source": [
    "df_diff['diff'] = (df_diff['kvinner']-df_diff['Menn'])\n",
    "df_diff = df_diff.T\n",
    "df_diff =df_diff.round(2)\n",
    "#df_diff"
   ]
  },
  {
   "cell_type": "code",
   "execution_count": null,
   "metadata": {},
   "outputs": [],
   "source": [
    "from matplotlib import pyplot\n",
    "import plotly.express as px\n",
    "from matplotlib import gridspec\n",
    "\n",
    "\n",
    "labels = list(df_diff.columns)  \n",
    "#print(labels)\n",
    "\n",
    "menn = df_diff.iloc[0]\n",
    "menn = menn.values.tolist()\n",
    "kvinner = df_diff.iloc[1]\n",
    "kvinner = kvinner.values.tolist()\n",
    "#print(menn)\n",
    "#print(kvinner)\n",
    "\n",
    "\n",
    "diff = df_diff.iloc[2]\n",
    "diff = Ratio.values.tolist()\n",
    "\n",
    "#print(diff)\n",
    "x = np.arange(len(labels)) \n",
    "width = 0.35  # the width of the bars\n",
    "\n",
    "#fig, ax = plt.subplots()\n",
    "fig, (ax1, ax2) = plt.subplots(2, 1, figsize=(7,7))\n",
    "\n",
    "#ploting axes 1\n",
    "rects1 = ax1.bar(x - width/2, menn, width, label='Menn')\n",
    "rects2 = ax1.bar(x + width/2, kvinner, width, label='kvinner')\n",
    "ax1.set_ylim(0, 70)\n",
    "ax1.axhline(50)\n",
    "\n",
    "# Add some text for labels, title and custom x-axis tick labels, etc.\n",
    "ax1.set_ylabel('Andel (%)')\n",
    "#ax1.set_title('Proportion of men and women who have completed the measures')\n",
    "ax1.set_xticks(x)\n",
    "ax1.set_xticklabels(labels)\n",
    "ax1.legend()\n",
    "ax1.bar_label(rects1, padding=3)\n",
    "ax1.bar_label(rects2, padding=3)\n",
    "\n",
    "#ploting axes 2\n",
    "rects3 = plt.stem(x - width/2, Ratio,markerfmt = 'bo', linefmt='-',label='bias in women' )\n",
    "#rects3 = ax2.bar(x + width/2, Ratio, width, label='kvinner', color ='tab:orange' )\n",
    "ax2.set_ylim(-40, 20)\n",
    "ax2.axhline(0)\n",
    "\n",
    "# Add some text for labels, title and custom x-axis tick labels, etc.\n",
    "ax2.set_title('skjevhet i andel kvinner   ')\n",
    "ax2.set_xticks(x)\n",
    "ax2.set_xticklabels(labels)\n",
    "ax2.legend()\n",
    "#ax2.bar_label(rects3, padding=3)\n",
    "plt.legend()\n",
    "ax2.set_ylabel('Andel (%)')\n",
    "\n",
    "#Fill area when Ratio > 0 with green og red when Ratio < 0  \n",
    "ax2.axhspan(0, 20, facecolor='green', alpha=0.5,label=\"Postiv utvikling\")\n",
    "ax2.axhspan(0, -45, facecolor='red', alpha=0.5,label=\"Negativ utvikling\")\n",
    "for x,y in zip(x, Ratio):\n",
    "    plt.annotate('{}'.format(y), xy=(x,y), xytext=(0,-7), textcoords=\"offset points\",\n",
    "                    ha='right', va='bottom')\n",
    "\n",
    "\n",
    "fig.tight_layout()\n",
    "plt.legend(bbox_to_anchor=(1.05, 1.03))\n",
    "\n"
   ]
  },
  {
   "cell_type": "markdown",
   "metadata": {},
   "source": [
    "## How was the distribution of gender in all measures by county in the period 2018 - 2020"
   ]
  },
  {
   "cell_type": "code",
   "execution_count": null,
   "metadata": {},
   "outputs": [],
   "source": [
    "flyker_2020 = {   \n",
    "                  1.0 : 'Viken', \n",
    "                  2.0 : 'Viken', \n",
    "                  6.0 : 'Viken',\n",
    "                  30.0: 'Viken',\n",
    "                  3.0 : 'Oslo',\n",
    "                  4.0 : 'Innlandet', \n",
    "                  5.0 : 'Innlandet', \n",
    "                  34.0: 'Innlandet',\n",
    "                  7.0 : 'Vestfold og Telemark',\n",
    "                  8.0 : 'Vestfold og Telemark',\n",
    "                  38.0: 'Vestfold og Telemark',\n",
    "                  9.0 : 'Agder',\n",
    "                  10.0: 'Agder',\n",
    "                  42.0: 'Agder',\n",
    "                  11.0: 'Rogaland',\n",
    "                  12.0: 'Vestland',\n",
    "                  14.0: 'Vestland',\n",
    "                  46.0: 'Vestland',\n",
    "                  15.0: 'Møre og Romsdal',\n",
    "                  18.0: 'Nordland',\n",
    "                  19.0: 'Troms og Finnmark',\n",
    "                  20.0: 'Troms og Finnmark',\n",
    "                  54.0: 'Troms og Finnmark',\n",
    "                  21.0: 'Svalbard',\n",
    "                  50.0: 'Trøndelag',\n",
    "                  16.0: 'Trøndelag',\n",
    "                  17.0: 'Trøndelag',\n",
    "                  0   : 'Annet bosted',\n",
    "                  -1.0: 'Annet bosted',\n",
    "    \n",
    "                 \n",
    "              }"
   ]
  },
  {
   "cell_type": "code",
   "execution_count": null,
   "metadata": {},
   "outputs": [],
   "source": [
    "# common data framework for gender balance by county\n",
    "flyke_tiltak = prep_utils.fetch_sql_file(\"../Lønntilskudd_sql/tiltak_flyke.sql\", con)\n",
    "flyke_tiltak_navn = prep_utils.map_tiltak_navn(flyke_tiltak)\n",
    "flyke_tiltak_kjonn_id = prep_utils.replace_kjonn_id(flyke_tiltak)\n",
    "flyke_tiltak_flyke_navn = prep_utils.fetch_flykenummer_map_flyke_navn(flyke_tiltak)\n",
    "#flyke_tiltak_flyke_navn\n",
    "\n"
   ]
  },
  {
   "cell_type": "code",
   "execution_count": null,
   "metadata": {},
   "outputs": [],
   "source": [
    "# dataframe for all measures on gender balance by county\n",
    "flyke_alle_tiltak = flyke_tiltak_flyke_navn.copy()\n",
    "\n"
   ]
  },
  {
   "cell_type": "code",
   "execution_count": null,
   "metadata": {},
   "outputs": [],
   "source": [
    "# dataframe for for temporary wage subsidy on gender balance by county\n",
    "\n",
    "flyke_mid_lønn =flyke_tiltak_flyke_navn.copy()\n",
    "flyke_mid_lønn = flyke_mid_lønn[flyke_mid_lønn.TILTAK_NAVN=='Midlertidig_lønnstilskudd']\n",
    "#flyke_mid_lønn\n"
   ]
  },
  {
   "cell_type": "code",
   "execution_count": null,
   "metadata": {},
   "outputs": [],
   "source": [
    "# dataframe for work training measures on gender balance by county\n",
    "flyke_arbtren =flyke_tiltak_flyke_navn.copy()\n",
    "flyke_arbtren = flyke_arbtren[flyke_arbtren.TILTAK_NAVN=='Arbeidstrening']\n",
    "#flyke_arbtren\n",
    "\n"
   ]
  },
  {
   "cell_type": "code",
   "execution_count": null,
   "metadata": {},
   "outputs": [],
   "source": [
    "flyke_alle_tiltak_andel = flyke_percentage_alletiltak(flyke_alle_tiltak,'flyke_new','COUNT')\n",
    "flyke_alle_tiltak_andel\n",
    "\n"
   ]
  },
  {
   "cell_type": "code",
   "execution_count": null,
   "metadata": {},
   "outputs": [],
   "source": [
    "andel_flyke_mid_lønn = flyke_percentage_arbtren_midlønn(flyke_mid_lønn,'flyke_new','PERSON_ID')\n"
   ]
  },
  {
   "cell_type": "code",
   "execution_count": null,
   "metadata": {},
   "outputs": [],
   "source": [
    "andel_flyke_arbtren = flyke_percentage_arbtren_midlønn(flyke_arbtren,'flyke_new','PERSON_ID')\n",
    "#andel_flyke_arbtren"
   ]
  },
  {
   "cell_type": "code",
   "execution_count": null,
   "metadata": {},
   "outputs": [],
   "source": []
  },
  {
   "cell_type": "markdown",
   "metadata": {},
   "source": [
    "## How does the proportion of women and men who have completed all measures, temporary wage subsidy and work training in the period 2018-2020 by fcounties and by age group"
   ]
  },
  {
   "cell_type": "code",
   "execution_count": null,
   "metadata": {},
   "outputs": [],
   "source": [
    "# preparing dataframe by by  concating above 3 dataframe togather to make sub plot by counties \n",
    "concat_kjonn_flyke = pandas.concat([flyke_alle_tiltak_andel,andel_flyke_arbtren,andel_flyke_mid_lønn], axis=1)\n",
    "#concat_kjonn_flyke\n",
    "\n"
   ]
  },
  {
   "cell_type": "code",
   "execution_count": null,
   "metadata": {},
   "outputs": [],
   "source": [
    "# preparing common dataframe for sub plot by age groups\n",
    "\n",
    "aldergrupp = kjonn_tiltak_kjonn_id.copy()\n",
    "aldergrupp = aldergrupp.drop(aldergrupp[aldergrupp['AGE'] == 17].index)\n",
    "\n",
    "#aldergrupp"
   ]
  },
  {
   "cell_type": "code",
   "execution_count": null,
   "metadata": {},
   "outputs": [],
   "source": [
    "# Addind new column(alder_gruppen)by binning the age \n",
    "\n",
    "num_of_bins = [18, 30, 40, 50, float('inf')]\n",
    "\n",
    "labels=['18-30', '30-40', '40-50', '50+']\n",
    "\n",
    "aldergrupp['alder_gruppen']=pandas.cut(aldergrupp['AGE'], bins=num_of_bins, labels=labels,include_lowest= True)\n",
    "\n",
    "\n",
    "aldergrupp\n"
   ]
  },
  {
   "cell_type": "code",
   "execution_count": null,
   "metadata": {},
   "outputs": [],
   "source": [
    "# Dataframe for alle measures by age group\n",
    "alle_tiltak_alder = aldergrupp.copy()\n",
    "#alle_tiltak_alder"
   ]
  },
  {
   "cell_type": "code",
   "execution_count": null,
   "metadata": {},
   "outputs": [],
   "source": [
    "# Dataframe for temporary wages by age group\n",
    "alder_mid_lønn = aldergrupp[aldergrupp.TILTAK_NAVN=='Midlertidig_lønnstilskudd']\n",
    "#alder_mid_lønn"
   ]
  },
  {
   "cell_type": "code",
   "execution_count": null,
   "metadata": {},
   "outputs": [],
   "source": [
    "# Dataframe for work traing measure age group\n",
    "\n",
    "alder_arbtren = aldergrupp[aldergrupp.TILTAK_NAVN=='Arbeidstrening']\n",
    "#alder_arbtren\n"
   ]
  },
  {
   "cell_type": "code",
   "execution_count": null,
   "metadata": {},
   "outputs": [],
   "source": [
    "alder_alle_tiltak_andel = flyke_percentage_alletiltak(alle_tiltak_alder,'alder_gruppen','COUNT')\n",
    "#alder_alle_tiltak_andel"
   ]
  },
  {
   "cell_type": "code",
   "execution_count": null,
   "metadata": {},
   "outputs": [],
   "source": [
    "andel_alder_mid_lønn = flyke_percentage_arbtren_midlønn(alder_mid_lønn,'alder_gruppen','PERSON_ID')\n",
    "#andel_alder_mid_lønn"
   ]
  },
  {
   "cell_type": "code",
   "execution_count": null,
   "metadata": {},
   "outputs": [],
   "source": [
    "andel_alder_arbren = flyke_percentage_arbtren_midlønn(alder_arbtren,'alder_gruppen','PERSON_ID')\n",
    "#andel_alder_arbren"
   ]
  },
  {
   "cell_type": "code",
   "execution_count": null,
   "metadata": {},
   "outputs": [],
   "source": [
    "# preparing dataframe by concating above 3 dataframe togather to make sub plot by age group \n",
    "concat_kjonn_alder = pandas.concat([alder_alle_tiltak_andel,andel_alder_arbren,andel_alder_mid_lønn], axis=1)\n",
    "#concat_kjonn_alder\n"
   ]
  },
  {
   "cell_type": "code",
   "execution_count": null,
   "metadata": {},
   "outputs": [],
   "source": [
    "plot_utils.create_sub_plot(concat_kjonn_flyke,'flyke_new')\n"
   ]
  },
  {
   "cell_type": "code",
   "execution_count": null,
   "metadata": {},
   "outputs": [],
   "source": [
    "plot_utils.create_sub_plot(concat_kjonn_alder,'alder_gruppen')\n",
    "\n"
   ]
  },
  {
   "cell_type": "markdown",
   "metadata": {},
   "source": [
    "## What measures users have had before the temporary wage subsidy in the period 2018-2020"
   ]
  },
  {
   "cell_type": "code",
   "execution_count": null,
   "metadata": {},
   "outputs": [],
   "source": [
    "# Dataframe for brukerene(men and women) in temporary wage \n",
    "df_sankey = prep_utils.fetch_sql_file(\"../Lønntilskudd_sql/tiltak_før_Midlertidiglønnstilskudd.sql\", con)\n",
    "\n",
    "df_sankey_tiltak_navn = prep_utils.map_tiltak_navn(df_sankey)\n",
    "df_sankey_kjonn_id = prep_utils.replace_kjonn_id(df_sankey)\n",
    "\n"
   ]
  },
  {
   "cell_type": "code",
   "execution_count": null,
   "metadata": {},
   "outputs": [],
   "source": [
    "# Dataframe for men in temporary wage \n",
    "\n",
    "Menn_sankey = df_sankey[df_sankey['KJONN_ID'] != 'kvinner']\n",
    "\n",
    "#Menn_sankey"
   ]
  },
  {
   "cell_type": "code",
   "execution_count": null,
   "metadata": {},
   "outputs": [],
   "source": [
    "# Dataframe for women in temporary wage \n",
    "\n",
    "kvinner_sankey = df_sankey.loc[df_sankey['KJONN_ID'] != 'Menn']\n",
    "#kvinner_sankey"
   ]
  },
  {
   "cell_type": "code",
   "execution_count": null,
   "metadata": {},
   "outputs": [],
   "source": [
    "df_sankey = df_sankey.groupby('PERSON_ID')\n",
    "kvinner_sankey = kvinner_sankey.groupby('PERSON_ID')\n",
    "Menn_sankey = Menn_sankey.groupby('PERSON_ID')\n",
    "\n"
   ]
  },
  {
   "cell_type": "code",
   "execution_count": null,
   "metadata": {},
   "outputs": [],
   "source": [
    "\n",
    "my_dict_overall = plot_utils.create_sankey_midlønn(df_sankey)\n",
    "#print(my_dict_overall)\n",
    "\n"
   ]
  },
  {
   "cell_type": "code",
   "execution_count": null,
   "metadata": {},
   "outputs": [],
   "source": [
    "my_dict_kvinner = plot_utils.create_sankey_midlønn(kvinner_sankey)\n",
    "\n",
    "#print(my_dict_kvinner)"
   ]
  },
  {
   "cell_type": "code",
   "execution_count": null,
   "metadata": {},
   "outputs": [],
   "source": [
    "my_dict_man = plot_utils.create_sankey_midlønn(Menn_sankey)\n",
    "#print(my_dict_man)"
   ]
  },
  {
   "cell_type": "code",
   "execution_count": null,
   "metadata": {},
   "outputs": [],
   "source": [
    "plot_utils.draw_sankey_midlønn(my_dict_overall,my_dict_man,my_dict_kvinner)"
   ]
  },
  {
   "cell_type": "markdown",
   "metadata": {},
   "source": [
    "# Proportion shows the transition of users from work training to various measures in the period 2018-2020"
   ]
  },
  {
   "cell_type": "code",
   "execution_count": null,
   "metadata": {},
   "outputs": [],
   "source": [
    "# Datafame for brukrene in work training \n",
    "arbtren_brukrne = df_sankey\n"
   ]
  },
  {
   "cell_type": "code",
   "execution_count": null,
   "metadata": {},
   "outputs": [],
   "source": [
    "# Datafame for men in work training\n",
    "\n",
    "arbtren_menn = Menn_sankey"
   ]
  },
  {
   "cell_type": "code",
   "execution_count": null,
   "metadata": {},
   "outputs": [],
   "source": [
    "# Datafame for women in work  training\n",
    "\n",
    "\n",
    "arbtren_kvinner = kvinner_sankey\n",
    "\n"
   ]
  },
  {
   "cell_type": "code",
   "execution_count": null,
   "metadata": {},
   "outputs": [],
   "source": [
    "\n",
    "\n",
    "plot_arbtren_overall = plot_utils.create_sankey_arbtren(arbtren_brukrne)\n",
    "#print(arbtren_overall)\n",
    "\n",
    "\n",
    "\n"
   ]
  },
  {
   "cell_type": "code",
   "execution_count": null,
   "metadata": {},
   "outputs": [],
   "source": [
    "plot_arbtren_kvinner = plot_utils.create_sankey_arbtren(arbtren_kvinner)\n",
    "\n",
    "#print(arbtren_kvinner)"
   ]
  },
  {
   "cell_type": "code",
   "execution_count": null,
   "metadata": {},
   "outputs": [],
   "source": [
    "plot_arbtren_man = plot_utils.create_sankey_arbtren(arbtren_menn)\n",
    "\n",
    "#print(arbtren_man)"
   ]
  },
  {
   "cell_type": "code",
   "execution_count": null,
   "metadata": {},
   "outputs": [],
   "source": [
    "plot_utils.draw_sankey_arbtren(plot_arbtren_overall,plot_arbtren_man,plot_arbtren_kvinner)"
   ]
  }
 ],
 "metadata": {
  "kernelspec": {
   "display_name": "Python 3 (ipykernel)",
   "language": "python",
   "name": "python3"
  },
  "language_info": {
   "codemirror_mode": {
    "name": "ipython",
    "version": 3
   },
   "file_extension": ".py",
   "mimetype": "text/x-python",
   "name": "python",
   "nbconvert_exporter": "python",
   "pygments_lexer": "ipython3",
   "version": "3.8.3"
  }
 },
 "nbformat": 4,
 "nbformat_minor": 4
}
